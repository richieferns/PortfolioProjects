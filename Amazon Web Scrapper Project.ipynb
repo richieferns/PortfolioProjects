{
 "cells": [
  {
   "cell_type": "code",
   "execution_count": 72,
   "id": "33c65015",
   "metadata": {},
   "outputs": [],
   "source": [
    "# import libraries \n",
    "\n",
    "from bs4 import BeautifulSoup\n",
    "import requests\n",
    "import time\n",
    "import smtplib"
   ]
  },
  {
   "cell_type": "code",
   "execution_count": 73,
   "id": "822ca869",
   "metadata": {},
   "outputs": [
    {
     "name": "stdout",
     "output_type": "stream",
     "text": [
      "\n",
      "                   I'm Good with Math Graphic Novelty Sarcastic Funny T Shirt\n",
      "                  \n",
      "\n",
      "                     $16.99\n",
      "                    \n"
     ]
    }
   ],
   "source": [
    "# connect to the website\n",
    "\n",
    "URL = 'https://www.amazon.com/dp/B01629R03W/ref=sspa_dk_detail_2?psc=1&pd_rd_i=B01629R03W&pd_rd_w=DpPGM&pf_rd_p=0c758152-61cd-452f-97a6-17f070f654b8&pd_rd_wg=YpXzu&pf_rd_r=VNKFEJZHRTYF6XJTPN06&pd_rd_r=6f16fded-70f5-468f-a2f8-3a34c09ad1ac&s=apparel&spLa=ZW5jcnlwdGVkUXVhbGlmaWVyPUFBVTZST0haQUEyVkQmZW5jcnlwdGVkSWQ9QTA3NjMzOTYySEhKSlhaS05IMkxKJmVuY3J5cHRlZEFkSWQ9QTAyMTgzNjAxM1c2U1ZSSlZPMk8md2lkZ2V0TmFtZT1zcF9kZXRhaWwmYWN0aW9uPWNsaWNrUmVkaXJlY3QmZG9Ob3RMb2dDbGljaz10cnVl'\n",
    "\n",
    "headers = {\"User-Agent\": \"Mozilla/5.0 (Windows NT 10.0; Win64; x64) AppleWebKit/537.36 (KHTML, like Gecko) Chrome/78.0.3904.108 Safari/537.36\", \"Accept-Encoding\":\"gzip, deflate\", \"Accept\":\"text/html,application/xhtml+xml,application/xml;q=0.9,*/*;q=0.8\", \"DNT\":\"1\",\"Connection\":\"close\", \"Upgrade-Insecure-Requests\":\"1\"}\n",
    "\n",
    "page = requests.get(URL, headers=headers)\n",
    "\n",
    "#print(page.content)\n",
    "\n",
    "soup1 = BeautifulSoup(page.content, \"html.parser\")\n",
    "\n",
    "#print(soup1)\n",
    "\n",
    "soup2 = BeautifulSoup(soup1.prettify(), \"html.parser\")\n",
    "\n",
    "#print(soup2)\n",
    "\n",
    "title = soup2.find(id='productTitle').get_text()\n",
    "\n",
    "parentspans = soup2.find_all('span', {'class' : 'a-price a-text-price a-size-medium apexPriceToPay'})\n",
    "\n",
    "for childspan in parentspans:\n",
    "    spans = childspan.find_all('span', {'class' : 'a-offscreen'})\n",
    "\n",
    "price = \"\"\n",
    "for span in spans:\n",
    "    price = span.get_text()\n",
    "\n",
    "print(title)\n",
    "print(price)"
   ]
  },
  {
   "cell_type": "code",
   "execution_count": 74,
   "id": "ae485a3d",
   "metadata": {},
   "outputs": [
    {
     "name": "stdout",
     "output_type": "stream",
     "text": [
      "I'm Good with Math Graphic Novelty Sarcastic Funny T Shirt\n",
      "16.99\n"
     ]
    }
   ],
   "source": [
    "# Clean up the data a little bit\n",
    "\n",
    "price = price.strip()[1:]\n",
    "title = title.strip()\n",
    "\n",
    "print(title)\n",
    "print(price)"
   ]
  },
  {
   "cell_type": "code",
   "execution_count": 75,
   "id": "beb7a4fb",
   "metadata": {},
   "outputs": [],
   "source": [
    "import datetime\n",
    "\n",
    "today = datetime.date.today()\n",
    "\n",
    "import csv \n",
    "\n",
    "header = ['Title', 'Price', 'Date']\n",
    "data = [title, price, today]\n",
    "\n",
    "# write data to csv\n",
    "with open('AmazonWebScraperDataset.csv', 'a+', newline='', encoding='UTF8') as f:\n",
    "    writer = csv.writer(f)\n",
    "    writer.writerow(data)"
   ]
  },
  {
   "cell_type": "code",
   "execution_count": null,
   "id": "1fe328aa",
   "metadata": {},
   "outputs": [],
   "source": [
    "#encapsulate the above code into one function\n",
    "\n",
    "\n",
    "def check_price():\n",
    "    URL = 'https://www.amazon.com/dp/B01629R03W/ref=sspa_dk_detail_2?psc=1&pd_rd_i=B01629R03W&pd_rd_w=DpPGM&pf_rd_p=0c758152-61cd-452f-97a6-17f070f654b8&pd_rd_wg=YpXzu&pf_rd_r=VNKFEJZHRTYF6XJTPN06&pd_rd_r=6f16fded-70f5-468f-a2f8-3a34c09ad1ac&s=apparel&spLa=ZW5jcnlwdGVkUXVhbGlmaWVyPUFBVTZST0haQUEyVkQmZW5jcnlwdGVkSWQ9QTA3NjMzOTYySEhKSlhaS05IMkxKJmVuY3J5cHRlZEFkSWQ9QTAyMTgzNjAxM1c2U1ZSSlZPMk8md2lkZ2V0TmFtZT1zcF9kZXRhaWwmYWN0aW9uPWNsaWNrUmVkaXJlY3QmZG9Ob3RMb2dDbGljaz10cnVl'\n",
    "\n",
    "    headers = {\"User-Agent\": \"Mozilla/5.0 (Windows NT 10.0; Win64; x64) AppleWebKit/537.36 (KHTML, like Gecko) Chrome/78.0.3904.108 Safari/537.36\", \"Accept-Encoding\":\"gzip, deflate\", \"Accept\":\"text/html,application/xhtml+xml,application/xml;q=0.9,*/*;q=0.8\", \"DNT\":\"1\",\"Connection\":\"close\", \"Upgrade-Insecure-Requests\":\"1\"}\n",
    "\n",
    "    page = requests.get(URL, headers=headers)\n",
    "\n",
    "    soup1 = BeautifulSoup(page.content, \"html.parser\")\n",
    "\n",
    "    soup2 = BeautifulSoup(soup1.prettify(), \"html.parser\")\n",
    "\n",
    "    title = soup2.find(id='productTitle').get_text()\n",
    "\n",
    "    parentspans = soup2.find_all('span', {'class' : 'a-price a-text-price a-size-medium apexPriceToPay'})\n",
    "\n",
    "    for childspan in parentspans:\n",
    "        spans = childspan.find_all('span', {'class' : 'a-offscreen'})\n",
    "\n",
    "    price = \"\"\n",
    "    for span in spans:\n",
    "        price = span.get_text()\n",
    "        \n",
    "    price = price.strip()[1:]\n",
    "    title = title.strip()\n",
    "\n",
    "    import datetime\n",
    "\n",
    "    today = datetime.date.today()\n",
    "    \n",
    "    import csv \n",
    "\n",
    "    header = ['Title', 'Price', 'Date']\n",
    "    data = [title, price, today]\n",
    "\n",
    "    with open('AmazonWebScraperDataset.csv', 'a+', newline='', encoding='UTF8') as f:\n",
    "        writer = csv.writer(f)\n",
    "        writer.writerow(data)"
   ]
  }
 ],
 "metadata": {
  "kernelspec": {
   "display_name": "Python 3 (ipykernel)",
   "language": "python",
   "name": "python3"
  },
  "language_info": {
   "codemirror_mode": {
    "name": "ipython",
    "version": 3
   },
   "file_extension": ".py",
   "mimetype": "text/x-python",
   "name": "python",
   "nbconvert_exporter": "python",
   "pygments_lexer": "ipython3",
   "version": "3.9.7"
  }
 },
 "nbformat": 4,
 "nbformat_minor": 5
}
